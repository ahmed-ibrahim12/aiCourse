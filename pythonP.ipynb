{
 "cells": [
  {
   "cell_type": "code",
   "execution_count": 1,
   "metadata": {},
   "outputs": [
    {
     "name": "stdout",
     "output_type": "stream",
     "text": [
      "Successfully created the directory C:\\Users\\EL-masreya\\Desktop\\aiCourse/Task 1 \n",
      "Successfully created the directory C:\\Users\\EL-masreya\\Desktop\\aiCourse/Task 2 \n",
      "Successfully created the directory C:\\Users\\EL-masreya\\Desktop\\aiCourse/Task 3 \n",
      "Successfully created the directory C:\\Users\\EL-masreya\\Desktop\\aiCourse/Task 4 \n",
      "Successfully created the directory C:\\Users\\EL-masreya\\Desktop\\aiCourse/Task 5 \n",
      "Successfully created the directory C:\\Users\\EL-masreya\\Desktop\\aiCourse/Task 6 \n",
      "Successfully created the directory C:\\Users\\EL-masreya\\Desktop\\aiCourse/Task 7 \n",
      "Successfully created the directory C:\\Users\\EL-masreya\\Desktop\\aiCourse/Task 8 \n",
      "Successfully created the directory C:\\Users\\EL-masreya\\Desktop\\aiCourse/Task 9 \n",
      "Successfully created the directory C:\\Users\\EL-masreya\\Desktop\\aiCourse/Task 10 \n",
      "Successfully created the directory C:\\Users\\EL-masreya\\Desktop\\aiCourse/Task 11 \n",
      "Successfully created the directory C:\\Users\\EL-masreya\\Desktop\\aiCourse/Task 12 \n",
      "Successfully created the directory C:\\Users\\EL-masreya\\Desktop\\aiCourse/Task 13 \n",
      "Successfully created the directory C:\\Users\\EL-masreya\\Desktop\\aiCourse/Task 14 \n",
      "Successfully created the directory C:\\Users\\EL-masreya\\Desktop\\aiCourse/Task 15 \n",
      "Successfully created the directory C:\\Users\\EL-masreya\\Desktop\\aiCourse/Task 16 \n",
      "Successfully created the directory C:\\Users\\EL-masreya\\Desktop\\aiCourse/Task 17 \n",
      "Successfully created the directory C:\\Users\\EL-masreya\\Desktop\\aiCourse/Task 18 \n",
      "Successfully created the directory C:\\Users\\EL-masreya\\Desktop\\aiCourse/Task 19 \n",
      "Successfully created the directory C:\\Users\\EL-masreya\\Desktop\\aiCourse/Task 20 \n",
      "Successfully created the directory C:\\Users\\EL-masreya\\Desktop\\aiCourse/Task 21 \n",
      "Successfully created the directory C:\\Users\\EL-masreya\\Desktop\\aiCourse/Task 22 \n",
      "Successfully created the directory C:\\Users\\EL-masreya\\Desktop\\aiCourse/Task 23 \n",
      "Successfully created the directory C:\\Users\\EL-masreya\\Desktop\\aiCourse/Task 24 \n",
      "Successfully created the directory C:\\Users\\EL-masreya\\Desktop\\aiCourse/Task 25 \n",
      "Successfully created the directory C:\\Users\\EL-masreya\\Desktop\\aiCourse/Task 26 \n",
      "Successfully created the directory C:\\Users\\EL-masreya\\Desktop\\aiCourse/Task 27 \n",
      "Successfully created the directory C:\\Users\\EL-masreya\\Desktop\\aiCourse/Task 28 \n",
      "Successfully created the directory C:\\Users\\EL-masreya\\Desktop\\aiCourse/Task 29 \n",
      "Successfully created the directory C:\\Users\\EL-masreya\\Desktop\\aiCourse/Task 30 \n"
     ]
    }
   ],
   "source": [
    "import os\n",
    "path = os.getcwd()\n",
    "for i in range(1, 31):\n",
    "    try:\n",
    "        newpath = path+ \"/Task \" + str(i)\n",
    "        os.mkdir(newpath)\n",
    "    except OSError:\n",
    "        print (\"Creation of the directory %s failed\" % newpath)\n",
    "    else:\n",
    "        print (\"Successfully created the directory %s \" % newpath)"
   ]
  },
  {
   "cell_type": "code",
   "execution_count": null,
   "metadata": {},
   "outputs": [],
   "source": []
  }
 ],
 "metadata": {
  "kernelspec": {
   "display_name": "Python 3",
   "language": "python",
   "name": "python3"
  },
  "language_info": {
   "codemirror_mode": {
    "name": "ipython",
    "version": 3
   },
   "file_extension": ".py",
   "mimetype": "text/x-python",
   "name": "python",
   "nbconvert_exporter": "python",
   "pygments_lexer": "ipython3",
   "version": "3.8.5"
  }
 },
 "nbformat": 4,
 "nbformat_minor": 4
}
